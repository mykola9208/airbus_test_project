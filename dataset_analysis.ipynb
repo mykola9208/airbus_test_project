{
 "cells": [
  {
   "attachments": {},
   "cell_type": "markdown",
   "metadata": {},
   "source": [
    "<center>Провведемо аналіз данних</center>"
   ]
  },
  {
   "cell_type": "code",
   "execution_count": 139,
   "metadata": {},
   "outputs": [],
   "source": [
    "import numpy as np\n",
    "import pandas as pd\n",
    "import matplotlib.pyplot as plt\n",
    "import matplotlib.image as mpimg\n",
    "import cv2\n",
    "import os"
   ]
  },
  {
   "cell_type": "code",
   "execution_count": 140,
   "metadata": {},
   "outputs": [],
   "source": [
    "data_dir = '../airbus_test_project/dataset/' #посилання на папку, в якій знаходиться база данних\n",
    "data = pd.read_csv(os.path.join(data_dir, 'train_ship_segmentations_v2.csv'))\n",
    "data['EncodedPixels'] = data['EncodedPixels'].astype('string')"
   ]
  },
  {
   "cell_type": "code",
   "execution_count": 141,
   "metadata": {},
   "outputs": [
    {
     "data": {
      "text/html": [
       "<div>\n",
       "<style scoped>\n",
       "    .dataframe tbody tr th:only-of-type {\n",
       "        vertical-align: middle;\n",
       "    }\n",
       "\n",
       "    .dataframe tbody tr th {\n",
       "        vertical-align: top;\n",
       "    }\n",
       "\n",
       "    .dataframe thead th {\n",
       "        text-align: right;\n",
       "    }\n",
       "</style>\n",
       "<table border=\"1\" class=\"dataframe\">\n",
       "  <thead>\n",
       "    <tr style=\"text-align: right;\">\n",
       "      <th></th>\n",
       "      <th>ImageId</th>\n",
       "      <th>EncodedPixels</th>\n",
       "    </tr>\n",
       "  </thead>\n",
       "  <tbody>\n",
       "    <tr>\n",
       "      <th>0</th>\n",
       "      <td>00003e153.jpg</td>\n",
       "      <td>&lt;NA&gt;</td>\n",
       "    </tr>\n",
       "    <tr>\n",
       "      <th>1</th>\n",
       "      <td>0001124c7.jpg</td>\n",
       "      <td>&lt;NA&gt;</td>\n",
       "    </tr>\n",
       "    <tr>\n",
       "      <th>2</th>\n",
       "      <td>000155de5.jpg</td>\n",
       "      <td>264661 17 265429 33 266197 33 266965 33 267733...</td>\n",
       "    </tr>\n",
       "    <tr>\n",
       "      <th>3</th>\n",
       "      <td>000194a2d.jpg</td>\n",
       "      <td>360486 1 361252 4 362019 5 362785 8 363552 10 ...</td>\n",
       "    </tr>\n",
       "    <tr>\n",
       "      <th>4</th>\n",
       "      <td>000194a2d.jpg</td>\n",
       "      <td>51834 9 52602 9 53370 9 54138 9 54906 9 55674 ...</td>\n",
       "    </tr>\n",
       "    <tr>\n",
       "      <th>...</th>\n",
       "      <td>...</td>\n",
       "      <td>...</td>\n",
       "    </tr>\n",
       "    <tr>\n",
       "      <th>231718</th>\n",
       "      <td>fffedbb6b.jpg</td>\n",
       "      <td>&lt;NA&gt;</td>\n",
       "    </tr>\n",
       "    <tr>\n",
       "      <th>231719</th>\n",
       "      <td>ffff2aa57.jpg</td>\n",
       "      <td>&lt;NA&gt;</td>\n",
       "    </tr>\n",
       "    <tr>\n",
       "      <th>231720</th>\n",
       "      <td>ffff6e525.jpg</td>\n",
       "      <td>&lt;NA&gt;</td>\n",
       "    </tr>\n",
       "    <tr>\n",
       "      <th>231721</th>\n",
       "      <td>ffffc50b4.jpg</td>\n",
       "      <td>&lt;NA&gt;</td>\n",
       "    </tr>\n",
       "    <tr>\n",
       "      <th>231722</th>\n",
       "      <td>ffffe97f3.jpg</td>\n",
       "      <td>&lt;NA&gt;</td>\n",
       "    </tr>\n",
       "  </tbody>\n",
       "</table>\n",
       "<p>231723 rows × 2 columns</p>\n",
       "</div>"
      ],
      "text/plain": [
       "              ImageId                                      EncodedPixels\n",
       "0       00003e153.jpg                                               <NA>\n",
       "1       0001124c7.jpg                                               <NA>\n",
       "2       000155de5.jpg  264661 17 265429 33 266197 33 266965 33 267733...\n",
       "3       000194a2d.jpg  360486 1 361252 4 362019 5 362785 8 363552 10 ...\n",
       "4       000194a2d.jpg  51834 9 52602 9 53370 9 54138 9 54906 9 55674 ...\n",
       "...               ...                                                ...\n",
       "231718  fffedbb6b.jpg                                               <NA>\n",
       "231719  ffff2aa57.jpg                                               <NA>\n",
       "231720  ffff6e525.jpg                                               <NA>\n",
       "231721  ffffc50b4.jpg                                               <NA>\n",
       "231722  ffffe97f3.jpg                                               <NA>\n",
       "\n",
       "[231723 rows x 2 columns]"
      ]
     },
     "execution_count": 141,
     "metadata": {},
     "output_type": "execute_result"
    }
   ],
   "source": [
    "data"
   ]
  },
  {
   "cell_type": "markdown",
   "metadata": {},
   "source": [
    "Подивимось на скількох картинках нема кораблів і взагалі на скількох скільки їх присутньо"
   ]
  },
  {
   "cell_type": "code",
   "execution_count": 142,
   "metadata": {},
   "outputs": [],
   "source": [
    "data['HasShip'] = data['EncodedPixels'].notnull()\n",
    "data = data.groupby(\"ImageId\").agg({'HasShip': ['first', 'sum']}) # counts amount of ships per image, sets ImageId to index\n",
    "data.columns = ['HasShip', 'TotalShips']"
   ]
  },
  {
   "cell_type": "code",
   "execution_count": 143,
   "metadata": {},
   "outputs": [
    {
     "data": {
      "text/html": [
       "<div>\n",
       "<style scoped>\n",
       "    .dataframe tbody tr th:only-of-type {\n",
       "        vertical-align: middle;\n",
       "    }\n",
       "\n",
       "    .dataframe tbody tr th {\n",
       "        vertical-align: top;\n",
       "    }\n",
       "\n",
       "    .dataframe thead th {\n",
       "        text-align: right;\n",
       "    }\n",
       "</style>\n",
       "<table border=\"1\" class=\"dataframe\">\n",
       "  <thead>\n",
       "    <tr style=\"text-align: right;\">\n",
       "      <th></th>\n",
       "      <th>HasShip</th>\n",
       "      <th>TotalShips</th>\n",
       "    </tr>\n",
       "    <tr>\n",
       "      <th>ImageId</th>\n",
       "      <th></th>\n",
       "      <th></th>\n",
       "    </tr>\n",
       "  </thead>\n",
       "  <tbody>\n",
       "    <tr>\n",
       "      <th>00003e153.jpg</th>\n",
       "      <td>False</td>\n",
       "      <td>0</td>\n",
       "    </tr>\n",
       "    <tr>\n",
       "      <th>0001124c7.jpg</th>\n",
       "      <td>False</td>\n",
       "      <td>0</td>\n",
       "    </tr>\n",
       "    <tr>\n",
       "      <th>000155de5.jpg</th>\n",
       "      <td>True</td>\n",
       "      <td>1</td>\n",
       "    </tr>\n",
       "    <tr>\n",
       "      <th>000194a2d.jpg</th>\n",
       "      <td>True</td>\n",
       "      <td>5</td>\n",
       "    </tr>\n",
       "    <tr>\n",
       "      <th>0001b1832.jpg</th>\n",
       "      <td>False</td>\n",
       "      <td>0</td>\n",
       "    </tr>\n",
       "    <tr>\n",
       "      <th>...</th>\n",
       "      <td>...</td>\n",
       "      <td>...</td>\n",
       "    </tr>\n",
       "    <tr>\n",
       "      <th>fffedbb6b.jpg</th>\n",
       "      <td>False</td>\n",
       "      <td>0</td>\n",
       "    </tr>\n",
       "    <tr>\n",
       "      <th>ffff2aa57.jpg</th>\n",
       "      <td>False</td>\n",
       "      <td>0</td>\n",
       "    </tr>\n",
       "    <tr>\n",
       "      <th>ffff6e525.jpg</th>\n",
       "      <td>False</td>\n",
       "      <td>0</td>\n",
       "    </tr>\n",
       "    <tr>\n",
       "      <th>ffffc50b4.jpg</th>\n",
       "      <td>False</td>\n",
       "      <td>0</td>\n",
       "    </tr>\n",
       "    <tr>\n",
       "      <th>ffffe97f3.jpg</th>\n",
       "      <td>False</td>\n",
       "      <td>0</td>\n",
       "    </tr>\n",
       "  </tbody>\n",
       "</table>\n",
       "<p>192556 rows × 2 columns</p>\n",
       "</div>"
      ],
      "text/plain": [
       "               HasShip  TotalShips\n",
       "ImageId                           \n",
       "00003e153.jpg    False           0\n",
       "0001124c7.jpg    False           0\n",
       "000155de5.jpg     True           1\n",
       "000194a2d.jpg     True           5\n",
       "0001b1832.jpg    False           0\n",
       "...                ...         ...\n",
       "fffedbb6b.jpg    False           0\n",
       "ffff2aa57.jpg    False           0\n",
       "ffff6e525.jpg    False           0\n",
       "ffffc50b4.jpg    False           0\n",
       "ffffe97f3.jpg    False           0\n",
       "\n",
       "[192556 rows x 2 columns]"
      ]
     },
     "execution_count": 143,
     "metadata": {},
     "output_type": "execute_result"
    }
   ],
   "source": [
    "data"
   ]
  },
  {
   "cell_type": "code",
   "execution_count": 144,
   "metadata": {},
   "outputs": [],
   "source": [
    "def show_df(df):\n",
    "\n",
    "    total = len(df)\n",
    "    ship = df['HasShip'].sum()\n",
    "    no_ship = total - ship\n",
    "    total_ships = int(df['TotalShips'].sum())\n",
    "        \n",
    "    print(f\"Images: {total} \\nShips:  {total_ships}\")\n",
    "    print(f\"Images with ships:    {round(ship/total,2)} ({ship})\")\n",
    "    print(f\"Images with no ships: {round(no_ship/total,2)} ({no_ship})\")\n",
    "    \n",
    "    _, axes = plt.subplots(nrows=1, ncols=2, figsize=(30, 8), gridspec_kw = {'width_ratios':[1, 3]})\n",
    "    \n",
    "    # Показуємо відношення картинок з кораблями та без них\n",
    "    ship_ratio = df['HasShip'].value_counts() / total\n",
    "    ship_ratio = ship_ratio.rename(index={True: 'Ship', False: 'No Ship'})\n",
    "    ship_ratio.plot.bar(ax=axes[0], color=['red', 'lime'], rot=0, title=\"Ship/No-ship distribution\");\n",
    "    \n",
    "    # Показуємо відносну кількість картинок в залежності від кількості кораблів\n",
    "    total_ships_distribution = df.loc[df['HasShip'], 'TotalShips'].value_counts().sort_index() / ship\n",
    "    total_ships_distribution.plot(kind='bar', ax=axes[1], rot=0, title=\"Total ships distribution\")"
   ]
  },
  {
   "cell_type": "code",
   "execution_count": 145,
   "metadata": {},
   "outputs": [
    {
     "name": "stdout",
     "output_type": "stream",
     "text": [
      "Images: 192556 \n",
      "Ships:  81723\n",
      "Images with ships:    0.22 (42556)\n",
      "Images with no ships: 0.78 (150000)\n"
     ]
    },
    {
     "data": {
      "image/png": "[encoded data removed]",
      "text/plain": [
       "<Figure size 3000x800 with 2 Axes>"
      ]
     },
     "metadata": {},
     "output_type": "display_data"
    }
   ],
   "source": [
    "show_df(data)"
   ]
  },
  {
   "cell_type": "code",
   "execution_count": 146,
   "metadata": {},
   "outputs": [
    {
     "data": {
      "text/plain": [
       "TotalShips\n",
       "0     150000\n",
       "1      27104\n",
       "2       7674\n",
       "3       2954\n",
       "4       1622\n",
       "5        925\n",
       "6        657\n",
       "7        406\n",
       "8        318\n",
       "9        243\n",
       "10       168\n",
       "11       144\n",
       "12       124\n",
       "14        76\n",
       "13        75\n",
       "15        66\n",
       "Name: count, dtype: int64"
      ]
     },
     "execution_count": 146,
     "metadata": {},
     "output_type": "execute_result"
    }
   ],
   "source": [
    "data['TotalShips'].value_counts()"
   ]
  },
  {
   "attachments": {},
   "cell_type": "markdown",
   "metadata": {},
   "source": [
    "Об'єднаємо картинки на яких декілька кораблів"
   ]
  },
  {
   "cell_type": "code",
   "execution_count": 147,
   "metadata": {},
   "outputs": [],
   "source": [
    "data = pd.read_csv(os.path.join(data_dir, 'train_ship_segmentations_v2.csv'))"
   ]
  },
  {
   "attachments": {},
   "cell_type": "markdown",
   "metadata": {},
   "source": [
    "описуємо функцію і додаєм кількість пікселей на яких є суда"
   ]
  },
  {
   "cell_type": "code",
   "execution_count": 148,
   "metadata": {},
   "outputs": [],
   "source": [
    "data['EncodedPixels'] = data['EncodedPixels'].astype('string')\n",
    "data['EncodedPixels'] = data['EncodedPixels']+' '\n",
    "data = data.groupby('ImageId').agg({\"EncodedPixels\":\"sum\"}).reset_index()"
   ]
  },
  {
   "cell_type": "code",
   "execution_count": 149,
   "metadata": {},
   "outputs": [],
   "source": [
    "data.loc[data['EncodedPixels'] == '0', 'EncodedPixels'] = np.NaN"
   ]
  },
  {
   "attachments": {},
   "cell_type": "markdown",
   "metadata": {},
   "source": [
    "завантажимо цю базу данних у новий файл(гадаю об'єднання однакових рядків покращать результат)"
   ]
  },
  {
   "cell_type": "code",
   "execution_count": 150,
   "metadata": {},
   "outputs": [],
   "source": [
    "data.to_csv(os.path.join(data_dir, 'train_ship_segmentations_update.csv'), index=False)"
   ]
  },
  {
   "attachments": {},
   "cell_type": "markdown",
   "metadata": {},
   "source": [
    "описуємо функцію и додаємо у таблицю розміри фотографій. "
   ]
  },
  {
   "cell_type": "code",
   "execution_count": 151,
   "metadata": {},
   "outputs": [],
   "source": [
    "def extract_features_from_image(row: pd.Series) -> pd.Series:\n",
    "    image = np.zeros((768, 768, 3))\n",
    "    row['ImageHeight'], row['ImageWidth'], _ = image.shape\n",
    "    return row\n",
    "\n",
    "data = data.apply(lambda x: extract_features_from_image(x), axis=1)"
   ]
  },
  {
   "attachments": {},
   "cell_type": "markdown",
   "metadata": {},
   "source": [
    "було виявлено що всі фотографії 768 * 768, так прописано щоб швидше працювало, для перевірки замінити \n",
    "\"image = np.zeros((768, 768, 3))\" на \n",
    "\"image = cv2.imread(os.path.join(data_dir, f'train_v2/{name}'))\""
   ]
  },
  {
   "cell_type": "code",
   "execution_count": 152,
   "metadata": {},
   "outputs": [
    {
     "data": {
      "text/plain": [
       "ImageHeight\n",
       "768    192556\n",
       "Name: count, dtype: int64"
      ]
     },
     "execution_count": 152,
     "metadata": {},
     "output_type": "execute_result"
    }
   ],
   "source": [
    "data['ImageHeight'].value_counts()"
   ]
  },
  {
   "cell_type": "code",
   "execution_count": 153,
   "metadata": {},
   "outputs": [
    {
     "data": {
      "text/plain": [
       "ImageWidth\n",
       "768    192556\n",
       "Name: count, dtype: int64"
      ]
     },
     "execution_count": 153,
     "metadata": {},
     "output_type": "execute_result"
    }
   ],
   "source": [
    "data['ImageWidth'].value_counts()"
   ]
  },
  {
   "cell_type": "markdown",
   "metadata": {},
   "source": [
    "Вираховуємо кількість відсоток, який замають кораблі на картинках і будуємо графік"
   ]
  },
  {
   "cell_type": "code",
   "execution_count": 154,
   "metadata": {},
   "outputs": [],
   "source": [
    "def pixels_number(encoded_pixels: str) -> int:\n",
    "    if pd.isna(encoded_pixels):\n",
    "        return 0\n",
    "    return np.array(encoded_pixels.split()[1::2], dtype=int).sum()\n"
   ]
  },
  {
   "cell_type": "code",
   "execution_count": 155,
   "metadata": {},
   "outputs": [],
   "source": [
    "data['ShipAreaPercentage'] = data.apply(lambda x: pixels_number(x['EncodedPixels']) / \n",
    "    (768 * 768) * 100, axis=1)"
   ]
  },
  {
   "cell_type": "code",
   "execution_count": 156,
   "metadata": {},
   "outputs": [
    {
     "name": "stdout",
     "output_type": "stream",
     "text": [
      "There are 192556 rows.\n"
     ]
    },
    {
     "data": {
      "text/html": [
       "<div>\n",
       "<style scoped>\n",
       "    .dataframe tbody tr th:only-of-type {\n",
       "        vertical-align: middle;\n",
       "    }\n",
       "\n",
       "    .dataframe tbody tr th {\n",
       "        vertical-align: top;\n",
       "    }\n",
       "\n",
       "    .dataframe thead th {\n",
       "        text-align: right;\n",
       "    }\n",
       "</style>\n",
       "<table border=\"1\" class=\"dataframe\">\n",
       "  <thead>\n",
       "    <tr style=\"text-align: right;\">\n",
       "      <th></th>\n",
       "      <th>ImageId</th>\n",
       "      <th>EncodedPixels</th>\n",
       "      <th>ImageHeight</th>\n",
       "      <th>ImageWidth</th>\n",
       "      <th>ShipAreaPercentage</th>\n",
       "    </tr>\n",
       "  </thead>\n",
       "  <tbody>\n",
       "    <tr>\n",
       "      <th>0</th>\n",
       "      <td>00003e153.jpg</td>\n",
       "      <td>&lt;NA&gt;</td>\n",
       "      <td>768</td>\n",
       "      <td>768</td>\n",
       "      <td>0.000000</td>\n",
       "    </tr>\n",
       "    <tr>\n",
       "      <th>1</th>\n",
       "      <td>0001124c7.jpg</td>\n",
       "      <td>&lt;NA&gt;</td>\n",
       "      <td>768</td>\n",
       "      <td>768</td>\n",
       "      <td>0.000000</td>\n",
       "    </tr>\n",
       "    <tr>\n",
       "      <th>2</th>\n",
       "      <td>000155de5.jpg</td>\n",
       "      <td>264661 17 265429 33 266197 33 266965 33 267733...</td>\n",
       "      <td>768</td>\n",
       "      <td>768</td>\n",
       "      <td>0.574409</td>\n",
       "    </tr>\n",
       "    <tr>\n",
       "      <th>3</th>\n",
       "      <td>000194a2d.jpg</td>\n",
       "      <td>360486 1 361252 4 362019 5 362785 8 363552 10 ...</td>\n",
       "      <td>768</td>\n",
       "      <td>768</td>\n",
       "      <td>0.247531</td>\n",
       "    </tr>\n",
       "    <tr>\n",
       "      <th>4</th>\n",
       "      <td>0001b1832.jpg</td>\n",
       "      <td>&lt;NA&gt;</td>\n",
       "      <td>768</td>\n",
       "      <td>768</td>\n",
       "      <td>0.000000</td>\n",
       "    </tr>\n",
       "    <tr>\n",
       "      <th>5</th>\n",
       "      <td>00021ddc3.jpg</td>\n",
       "      <td>108287 1 109054 3 109821 4 110588 5 111356 5 1...</td>\n",
       "      <td>768</td>\n",
       "      <td>768</td>\n",
       "      <td>0.199382</td>\n",
       "    </tr>\n",
       "    <tr>\n",
       "      <th>6</th>\n",
       "      <td>0002756f7.jpg</td>\n",
       "      <td>255784 2 256552 4 257319 7 258087 9 258854 12 ...</td>\n",
       "      <td>768</td>\n",
       "      <td>768</td>\n",
       "      <td>0.069173</td>\n",
       "    </tr>\n",
       "    <tr>\n",
       "      <th>7</th>\n",
       "      <td>0002d0f32.jpg</td>\n",
       "      <td>&lt;NA&gt;</td>\n",
       "      <td>768</td>\n",
       "      <td>768</td>\n",
       "      <td>0.000000</td>\n",
       "    </tr>\n",
       "    <tr>\n",
       "      <th>8</th>\n",
       "      <td>000303d4d.jpg</td>\n",
       "      <td>&lt;NA&gt;</td>\n",
       "      <td>768</td>\n",
       "      <td>768</td>\n",
       "      <td>0.000000</td>\n",
       "    </tr>\n",
       "    <tr>\n",
       "      <th>9</th>\n",
       "      <td>00031f145.jpg</td>\n",
       "      <td>340363 1 341129 4 341896 6 342663 7 343429 10 ...</td>\n",
       "      <td>768</td>\n",
       "      <td>768</td>\n",
       "      <td>0.072055</td>\n",
       "    </tr>\n",
       "  </tbody>\n",
       "</table>\n",
       "</div>"
      ],
      "text/plain": [
       "         ImageId                                      EncodedPixels  \\\n",
       "0  00003e153.jpg                                               <NA>   \n",
       "1  0001124c7.jpg                                               <NA>   \n",
       "2  000155de5.jpg  264661 17 265429 33 266197 33 266965 33 267733...   \n",
       "3  000194a2d.jpg  360486 1 361252 4 362019 5 362785 8 363552 10 ...   \n",
       "4  0001b1832.jpg                                               <NA>   \n",
       "5  00021ddc3.jpg  108287 1 109054 3 109821 4 110588 5 111356 5 1...   \n",
       "6  0002756f7.jpg  255784 2 256552 4 257319 7 258087 9 258854 12 ...   \n",
       "7  0002d0f32.jpg                                               <NA>   \n",
       "8  000303d4d.jpg                                               <NA>   \n",
       "9  00031f145.jpg  340363 1 341129 4 341896 6 342663 7 343429 10 ...   \n",
       "\n",
       "   ImageHeight  ImageWidth  ShipAreaPercentage  \n",
       "0          768         768            0.000000  \n",
       "1          768         768            0.000000  \n",
       "2          768         768            0.574409  \n",
       "3          768         768            0.247531  \n",
       "4          768         768            0.000000  \n",
       "5          768         768            0.199382  \n",
       "6          768         768            0.069173  \n",
       "7          768         768            0.000000  \n",
       "8          768         768            0.000000  \n",
       "9          768         768            0.072055  "
      ]
     },
     "execution_count": 156,
     "metadata": {},
     "output_type": "execute_result"
    }
   ],
   "source": [
    "print(f'There are {data.shape[0]} rows.')\n",
    "data.head(10)"
   ]
  },
  {
   "cell_type": "code",
   "execution_count": 157,
   "metadata": {},
   "outputs": [],
   "source": [
    "data.dropna(subset=['EncodedPixels'], inplace=True)"
   ]
  },
  {
   "cell_type": "code",
   "execution_count": 158,
   "metadata": {},
   "outputs": [
    {
     "data": {
      "text/html": [
       "<div>\n",
       "<style scoped>\n",
       "    .dataframe tbody tr th:only-of-type {\n",
       "        vertical-align: middle;\n",
       "    }\n",
       "\n",
       "    .dataframe tbody tr th {\n",
       "        vertical-align: top;\n",
       "    }\n",
       "\n",
       "    .dataframe thead th {\n",
       "        text-align: right;\n",
       "    }\n",
       "</style>\n",
       "<table border=\"1\" class=\"dataframe\">\n",
       "  <thead>\n",
       "    <tr style=\"text-align: right;\">\n",
       "      <th></th>\n",
       "      <th>ImageHeight</th>\n",
       "      <th>ImageWidth</th>\n",
       "      <th>ShipAreaPercentage</th>\n",
       "    </tr>\n",
       "  </thead>\n",
       "  <tbody>\n",
       "    <tr>\n",
       "      <th>count</th>\n",
       "      <td>42556.0</td>\n",
       "      <td>42556.0</td>\n",
       "      <td>42556.000000</td>\n",
       "    </tr>\n",
       "    <tr>\n",
       "      <th>mean</th>\n",
       "      <td>768.0</td>\n",
       "      <td>768.0</td>\n",
       "      <td>0.510319</td>\n",
       "    </tr>\n",
       "    <tr>\n",
       "      <th>std</th>\n",
       "      <td>0.0</td>\n",
       "      <td>0.0</td>\n",
       "      <td>0.731965</td>\n",
       "    </tr>\n",
       "    <tr>\n",
       "      <th>min</th>\n",
       "      <td>768.0</td>\n",
       "      <td>768.0</td>\n",
       "      <td>0.001695</td>\n",
       "    </tr>\n",
       "    <tr>\n",
       "      <th>25%</th>\n",
       "      <td>768.0</td>\n",
       "      <td>768.0</td>\n",
       "      <td>0.036112</td>\n",
       "    </tr>\n",
       "    <tr>\n",
       "      <th>50%</th>\n",
       "      <td>768.0</td>\n",
       "      <td>768.0</td>\n",
       "      <td>0.210571</td>\n",
       "    </tr>\n",
       "    <tr>\n",
       "      <th>75%</th>\n",
       "      <td>768.0</td>\n",
       "      <td>768.0</td>\n",
       "      <td>0.712755</td>\n",
       "    </tr>\n",
       "    <tr>\n",
       "      <th>max</th>\n",
       "      <td>768.0</td>\n",
       "      <td>768.0</td>\n",
       "      <td>13.007270</td>\n",
       "    </tr>\n",
       "  </tbody>\n",
       "</table>\n",
       "</div>"
      ],
      "text/plain": [
       "       ImageHeight  ImageWidth  ShipAreaPercentage\n",
       "count      42556.0     42556.0        42556.000000\n",
       "mean         768.0       768.0            0.510319\n",
       "std            0.0         0.0            0.731965\n",
       "min          768.0       768.0            0.001695\n",
       "25%          768.0       768.0            0.036112\n",
       "50%          768.0       768.0            0.210571\n",
       "75%          768.0       768.0            0.712755\n",
       "max          768.0       768.0           13.007270"
      ]
     },
     "execution_count": 158,
     "metadata": {},
     "output_type": "execute_result"
    }
   ],
   "source": [
    "data.describe()"
   ]
  },
  {
   "cell_type": "code",
   "execution_count": 159,
   "metadata": {},
   "outputs": [
    {
     "data": {
      "text/plain": [
       "Text(0.5, 0, '')"
      ]
     },
     "execution_count": 159,
     "metadata": {},
     "output_type": "execute_result"
    },
    {
     "data": {
      "image/png": "[encoded data removed]",
      "text/plain": [
       "<Figure size 3000x1000 with 2 Axes>"
      ]
     },
     "metadata": {},
     "output_type": "display_data"
    }
   ],
   "source": [
    "f,ax=plt.subplots(1, 2,figsize=(30,10))\n",
    "\n",
    "data['ShipAreaPercentage'].hist(bins=20, ax=ax[0])\n",
    "data['ShipAreaPercentage'].plot.box(ax=ax[1])\n",
    "ax[1].set_ylabel('Ship Area Percentage')\n",
    "ax[1].set_xlabel('')\n"
   ]
  },
  {
   "attachments": {},
   "cell_type": "markdown",
   "metadata": {},
   "source": [
    "з висновків можна зробити, що на більшості картинок судов нема, для швидкості навчання моделі можна було б видалити частину пустих картинок з бази, але ми цього робити не будемо, бо прискорили час роботи програми іншим способом"
   ]
  },
  {
   "cell_type": "markdown",
   "metadata": {},
   "source": [
    "На більшості картинок лише по одному судну. Інші ми об'єднали, для покращення навчання моделі. базу данних з об'єднаними картинками зберегли у окремий файл,щоб не змінювати завантаженні данні. Видно що в середньому суда займають менш одного відсотка на картинках, але це не дивно, бодосліджуємо фотографії кораблів на знімках зі супутника. Загалом по висновкам хоч база данних і велика, але більшість з неї пусті фотографії та невеличкі суда, які легко переплутати з хмарами та хвилями, це ще пов'язано з якістю фотографій"
   ]
  }
 ],
 "metadata": {
  "kernelspec": {
   "display_name": "Python 3",
   "language": "python",
   "name": "python3"
  },
  "language_info": {
   "codemirror_mode": {
    "name": "ipython",
    "version": 3
   },
   "file_extension": ".py",
   "mimetype": "text/x-python",
   "name": "python",
   "nbconvert_exporter": "python",
   "pygments_lexer": "ipython3",
   "version": "3.9.13"
  },
  "orig_nbformat": 4
 },
 "nbformat": 4,
 "nbformat_minor": 2
}
